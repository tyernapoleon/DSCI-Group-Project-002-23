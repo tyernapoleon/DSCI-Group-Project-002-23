{
 "cells": [
  {
   "cell_type": "markdown",
   "metadata": {},
   "source": [
    "# DSCI-Group-Project 002-23\n",
    "# ***RESEARCH PROPOSAL TITLE：WHAT AFFECT STUDENT PERFORMANCE? A data analysis of dataset from two secondary schools in Portugal***\n",
    "<br> **Group Member:Aaron Liang, Qiran Liang, Doris Liu **"
   ]
  },
  {
   "cell_type": "markdown",
   "metadata": {},
   "source": [
    "**INTRODUCTION**:<br>\n",
    "\n",
    "What affects the students' academic performance? That's a very popular question in many countries, no matter parents, teachers or students themselves are very concerned about these factors, especially for the student performance during primary and secondary education stage. Educators or statisticians also did some research and put forward some arguements already. Next, our group will analyze a dataset from Portuguese secondary school to get more senses about these questions.\n",
    "\n",
    "**【Background Information】**<br>\n",
    "This data approach student achievement in secondary education of two Portuguese schools. <br>\n",
    "The data attributes include student grades, demographic, social and school-related features and it was collected by using school reports and questionnaires. <br>Two datasets are provided regarding the performance on two distinct subjects: Mathematics (mat) and Portuguese language (por). In [Cortez and Silva, 2008], the two datasets were modeled under binary/five-level classification and regression tasks.<br>\n",
    "<br>\n",
    "> **Important Notes**: the target attribute G3 has a strong correlation with attributes G2 and G1. This occurs because G3 is the final year grade (issued at the 3rd period), while G1 and G2 correspond to the 1st and 2nd period grades. It is more difficult to predict G3 without G2 and G1, but such prediction is much more useful (see paper source for more details).\n"
   ]
  },
  {
   "cell_type": "markdown",
   "metadata": {},
   "source": [
    "**【Research Question】**<br>\n",
    "   What variables are the most determining factor to predict a student's G3 (final grade)?\n",
    "\n",
    " >  *Some derived more detailed questions can be:<br>*\n",
    "  Can we use students' final grade on MATH(G3) to predict whether one student's willingness to go for higher education?<br>\n",
    "  If a student study hard (high level study time) but in a romantic relationship (yes), is he/she/other likely have a high final grade?\n",
    "  "
   ]
  },
  {
   "cell_type": "markdown",
   "metadata": {},
   "source": [
    "**【Dataset Declaration】**<br>\n",
    "Identify and describe the dataset that will be used to answer the question:<br>\n",
    "UCI Machine Learning Repository<br>\n",
    "Link:https://archive.ics.uci.edu/ml/datasets/Student+Performance \n"
   ]
  },
  {
   "cell_type": "markdown",
   "metadata": {},
   "source": [
    "<br>"
   ]
  },
  {
   "cell_type": "markdown",
   "metadata": {},
   "source": [
    "**PRELIMINARY EXPLORATORY DATA ANALYSIS**:<br>\n"
   ]
  },
  {
   "cell_type": "markdown",
   "metadata": {},
   "source": [
    "  Please run this cell first"
   ]
  },
  {
   "cell_type": "code",
   "execution_count": 1,
   "metadata": {},
   "outputs": [
    {
     "name": "stderr",
     "output_type": "stream",
     "text": [
      "── \u001b[1mAttaching packages\u001b[22m ─────────────────────────────────────── tidyverse 1.3.0 ──\n",
      "\n",
      "\u001b[32m✔\u001b[39m \u001b[34mggplot2\u001b[39m 3.3.2     \u001b[32m✔\u001b[39m \u001b[34mpurrr  \u001b[39m 0.3.4\n",
      "\u001b[32m✔\u001b[39m \u001b[34mtibble \u001b[39m 3.0.3     \u001b[32m✔\u001b[39m \u001b[34mdplyr  \u001b[39m 1.0.2\n",
      "\u001b[32m✔\u001b[39m \u001b[34mtidyr  \u001b[39m 1.1.2     \u001b[32m✔\u001b[39m \u001b[34mstringr\u001b[39m 1.4.0\n",
      "\u001b[32m✔\u001b[39m \u001b[34mreadr  \u001b[39m 1.3.1     \u001b[32m✔\u001b[39m \u001b[34mforcats\u001b[39m 0.5.0\n",
      "\n",
      "Warning message:\n",
      "“package ‘ggplot2’ was built under R version 4.0.1”\n",
      "Warning message:\n",
      "“package ‘tibble’ was built under R version 4.0.2”\n",
      "Warning message:\n",
      "“package ‘tidyr’ was built under R version 4.0.2”\n",
      "Warning message:\n",
      "“package ‘dplyr’ was built under R version 4.0.2”\n",
      "── \u001b[1mConflicts\u001b[22m ────────────────────────────────────────── tidyverse_conflicts() ──\n",
      "\u001b[31m✖\u001b[39m \u001b[34mdplyr\u001b[39m::\u001b[32mfilter()\u001b[39m masks \u001b[34mstats\u001b[39m::filter()\n",
      "\u001b[31m✖\u001b[39m \u001b[34mdplyr\u001b[39m::\u001b[32mlag()\u001b[39m    masks \u001b[34mstats\u001b[39m::lag()\n",
      "\n",
      "Warning message:\n",
      "“package ‘tidymodels’ was built under R version 4.0.2”\n",
      "── \u001b[1mAttaching packages\u001b[22m ────────────────────────────────────── tidymodels 0.1.1 ──\n",
      "\n",
      "\u001b[32m✔\u001b[39m \u001b[34mbroom    \u001b[39m 0.7.0      \u001b[32m✔\u001b[39m \u001b[34mrecipes  \u001b[39m 0.1.13\n",
      "\u001b[32m✔\u001b[39m \u001b[34mdials    \u001b[39m 0.0.9      \u001b[32m✔\u001b[39m \u001b[34mrsample  \u001b[39m 0.0.7 \n",
      "\u001b[32m✔\u001b[39m \u001b[34minfer    \u001b[39m 0.5.4      \u001b[32m✔\u001b[39m \u001b[34mtune     \u001b[39m 0.1.1 \n",
      "\u001b[32m✔\u001b[39m \u001b[34mmodeldata\u001b[39m 0.0.2      \u001b[32m✔\u001b[39m \u001b[34mworkflows\u001b[39m 0.2.0 \n",
      "\u001b[32m✔\u001b[39m \u001b[34mparsnip  \u001b[39m 0.1.3      \u001b[32m✔\u001b[39m \u001b[34myardstick\u001b[39m 0.0.7 \n",
      "\n",
      "Warning message:\n",
      "“package ‘broom’ was built under R version 4.0.2”\n",
      "Warning message:\n",
      "“package ‘dials’ was built under R version 4.0.2”\n",
      "Warning message:\n",
      "“package ‘infer’ was built under R version 4.0.3”\n",
      "Warning message:\n",
      "“package ‘modeldata’ was built under R version 4.0.1”\n",
      "Warning message:\n",
      "“package ‘parsnip’ was built under R version 4.0.2”\n",
      "Warning message:\n",
      "“package ‘recipes’ was built under R version 4.0.1”\n",
      "Warning message:\n",
      "“package ‘tune’ was built under R version 4.0.2”\n",
      "Warning message:\n",
      "“package ‘workflows’ was built under R version 4.0.2”\n",
      "Warning message:\n",
      "“package ‘yardstick’ was built under R version 4.0.2”\n",
      "── \u001b[1mConflicts\u001b[22m ───────────────────────────────────────── tidymodels_conflicts() ──\n",
      "\u001b[31m✖\u001b[39m \u001b[34mscales\u001b[39m::\u001b[32mdiscard()\u001b[39m masks \u001b[34mpurrr\u001b[39m::discard()\n",
      "\u001b[31m✖\u001b[39m \u001b[34mdplyr\u001b[39m::\u001b[32mfilter()\u001b[39m   masks \u001b[34mstats\u001b[39m::filter()\n",
      "\u001b[31m✖\u001b[39m \u001b[34mrecipes\u001b[39m::\u001b[32mfixed()\u001b[39m  masks \u001b[34mstringr\u001b[39m::fixed()\n",
      "\u001b[31m✖\u001b[39m \u001b[34mdplyr\u001b[39m::\u001b[32mlag()\u001b[39m      masks \u001b[34mstats\u001b[39m::lag()\n",
      "\u001b[31m✖\u001b[39m \u001b[34myardstick\u001b[39m::\u001b[32mspec()\u001b[39m masks \u001b[34mreadr\u001b[39m::spec()\n",
      "\u001b[31m✖\u001b[39m \u001b[34mrecipes\u001b[39m::\u001b[32mstep()\u001b[39m   masks \u001b[34mstats\u001b[39m::step()\n",
      "\n"
     ]
    }
   ],
   "source": [
    "library(tidyverse)\n",
    "library(repr)\n",
    "library(tidymodels)"
   ]
  },
  {
   "cell_type": "markdown",
   "metadata": {},
   "source": [
    "**【Loading Data】**<br>\n",
    "Demonstrate that the dataset can be read from the web into R :"
   ]
  },
  {
   "cell_type": "code",
   "execution_count": 2,
   "metadata": {},
   "outputs": [
    {
     "name": "stderr",
     "output_type": "stream",
     "text": [
      "Using ',' as decimal and '.' as grouping mark. Use read_delim() for more control.\n",
      "\n"
     ]
    },
    {
     "ename": "ERROR",
     "evalue": "Error: 'data/student-mat.csv' does not exist in current working directory ('/home/jupyter/DSCI-Group-Project').\n",
     "output_type": "error",
     "traceback": [
      "Error: 'data/student-mat.csv' does not exist in current working directory ('/home/jupyter/DSCI-Group-Project').\nTraceback:\n",
      "1. read_csv2(\"data/student-mat.csv\")",
      "2. read_delimited(file, tokenizer, col_names = col_names, col_types = col_types, \n .     locale = locale, skip = skip, skip_empty_rows = skip_empty_rows, \n .     comment = comment, n_max = n_max, guess_max = guess_max, \n .     progress = progress)",
      "3. standardise_path(file)",
      "4. check_path(path)",
      "5. stop(\"'\", path, \"' does not exist\", if (!is_absolute_path(path)) paste0(\" in current working directory ('\", \n .     getwd(), \"')\"), \".\", call. = FALSE)"
     ]
    }
   ],
   "source": [
    "student_mat_data <- read_csv2(\"data/student-mat.csv\")\n",
    "student_mat_data"
   ]
  },
  {
   "cell_type": "markdown",
   "metadata": {},
   "source": [
    "Clean and wrangle your data into a tidy format:<br> **DATA IS TIDY ALREADY**"
   ]
  },
  {
   "cell_type": "markdown",
   "metadata": {},
   "source": [
    "Using only training data, summarize the data in at least one table (this is exploratory data analysis). An example of a useful table could be one that reports the number of observations in each class, the means of the predictor variables you plan to use in your analysis and how many rows have missing data. "
   ]
  },
  {
   "cell_type": "code",
   "execution_count": null,
   "metadata": {},
   "outputs": [],
   "source": [
    "glimpse(student_mat_data)"
   ]
  },
  {
   "cell_type": "code",
   "execution_count": null,
   "metadata": {},
   "outputs": [],
   "source": [
    "student_mutated <- mutate(student_mat_data, higher = as_factor(higher), studytime = as_factor(studytime),romantic= as_factor(romantic))\n",
    "    glimpse(student_mutated)"
   ]
  },
  {
   "cell_type": "code",
   "execution_count": null,
   "metadata": {},
   "outputs": [],
   "source": [
    "number_of_responses_higher <- nrow(student_mutated)\n",
    "student_mutated %>%\n",
    "  group_by(higher) %>%\n",
    "  summarize(\n",
    "    n = n(),\n",
    "    percentage = n() / number_of_responses_higher * 100)\n",
    "  \n",
    "number_of_responses_ST <- nrow(student_mutated)\n",
    "student_mutated %>%\n",
    "  group_by(studytime) %>%\n",
    "  summarize(\n",
    "    n = n(),\n",
    "    percentage = n() / number_of_responses_ST * 100)\n",
    "  \n",
    "number_of_grades <- nrow(student_mutated)\n",
    "student_mutated %>%\n",
    "  group_by(G3) %>%\n",
    "  summarize(\n",
    "    n = n(),\n",
    "    percentage = n() / number_of_grades * 100)\n",
    "\n",
    "number_of_responses_ALL <- nrow(student_mutated)\n",
    "student_mutated %>%\n",
    "  group_by(studytime, higher, G3) %>%\n",
    "  summarize(\n",
    "    n = n(),\n",
    "    percentage = n() / number_of_responses_ALL * 100)\n",
    "  \n",
    "number_of_responses_ALL <- nrow(student_mutated)\n",
    "student_mutated %>%\n",
    "  group_by(studytime,romantic, G3) %>%\n",
    "  summarize(\n",
    "    n = n(),\n",
    "    percentage = n() / number_of_responses_ALL * 100)"
   ]
  },
  {
   "cell_type": "code",
   "execution_count": null,
   "metadata": {},
   "outputs": [],
   "source": [
    "math_data_split <- initial_split(student_mutated, prop = 0.75, strata = G3)\n",
    "math_train <- training(math_data_split)\n",
    "math_test <- testing(math_data_split)\n",
    "\n",
    "\n",
    "math_train\n",
    "math_test"
   ]
  },
  {
   "cell_type": "code",
   "execution_count": null,
   "metadata": {},
   "outputs": [],
   "source": [
    "sum(is.na(math_train))"
   ]
  },
  {
   "cell_type": "code",
   "execution_count": null,
   "metadata": {},
   "outputs": [],
   "source": [
    "summary <- summary(math_train)\n",
    "summary"
   ]
  },
  {
   "cell_type": "code",
   "execution_count": null,
   "metadata": {},
   "outputs": [],
   "source": [
    "head(math_train, n = 5)\n",
    "tail(math_train, n = 5)"
   ]
  },
  {
   "cell_type": "code",
   "execution_count": null,
   "metadata": {},
   "outputs": [],
   "source": [
    "as_tibble(math_train)\n"
   ]
  },
  {
   "cell_type": "markdown",
   "metadata": {},
   "source": [
    "Using only training data, visualize the data with at least one plot relevant to the analysis you plan to do (this is exploratory data analysis). An example of a useful visualization could be one that compares the distributions of each of the predictor variables you plan to use in your analysis."
   ]
  },
  {
   "cell_type": "markdown",
   "metadata": {},
   "source": [
    "**METHOD** <br>\n",
    "\n",
    "Explain how you will conduct either your data analysis and which variables/columns you will use.<br>\n",
    "*Note - you do not need to use all variables/columns that exist in the raw data set. In fact, that's often not a good idea. For each variable think: is this a useful variable for prediction?*\n",
    "<br>\n",
    "<br>\n",
    "**【Process Plan】**<br>\n",
    "<br>\n",
    "Since data in our dataset mostly use“1-5” and“yes or no” level，so statically, our data volume and the Interval degree both indicate that，input and output data are more likely to be discrete. Therefore, we decide to take the classification method instead of regression. Use the method of fitting won’t be appropriate. ",
    "\n",
    "\n",
    "We take G3 as our target predict variable. And we Will examine to see how external affecting factors which do in predicting high final grade on MATH. (G3) Like which factor in which level is easier to have high G3.<br>\n",
    "G3 has level 0-15, we have option 1: to make it more general grade level, such as make <br>\n",
    "16-20  -> “A” ( 73/395, top 18% )<br>\n",
    "13-15  -> “B”<br>\n",
    "10-12 -> “C”<br>\n",
    "9-7  -> “D” <br>\n",
    "6-4  -> “E”<br>\n",
    "0   -> “F” <br>\n",
    "This approach makes our class easier to predict.<br>\n",
    "<br>\n",
    "Also, we can use level 0-20 (there is no 1-3 level grade recorded in the dataset), but we need to Data preprocessing with tidy models, like centering and scaling. ( step_scale())\n",
    "We can first split into testing and training datasets to train and tune the classifier to use good K if necessary.\n",
    "<br>\n",
    "**【Visualization Plan】**<br>\n",
    "For visualization part we will make plot, since they’re categorical data, geom_bar/ geom_histogram will be a feasible visualization method.\n",
    "<br>\n",
    "but after that if we want to group by and summarise, we want to see “along with the level-increasing of study time from 1-4, is the total amount of \"A\" students also increase?”, we can use colored scatter plot, to see whether they have any correlation. ",
    "\n"
   ]
  },
  {
   "cell_type": "markdown",
   "metadata": {},
   "source": [
    "Expected outcomes and significance:<br>\n",
    "**【Expected Findings】**<br>\n",
    "**What do you expect to find?**<br>\n",
    "<br> 1. The most decisive factor in predicting high final grades in math G3 or “A.” is \"studytime\".\n",
    "<br> 2. Whether high level study time but in a romantic relationship (yes), is he/she/other likely have a high final grade?\n",
    "<br> 3. Whether internet and activities helpful or harmful for getting high final grade G3? \n",
    "\n",
    "\n",
    "**【Expected Importances】**<br>\n",
    "\n",
    "**What impact could such findings have?**<br>\n",
    "<br> It can give the local，school teachers and parents the basis to urge the students whether they should invest more time in study, whether they should adjust some behaviors to improve academic performance.\n",
    "\n",
    "**What future questions could this lead to?<br>**\n",
    "<br> How to improve student's academic performance and learing experiences overall.\n",
    "\n"
   ]
  },
  {
   "cell_type": "code",
   "execution_count": null,
   "metadata": {},
   "outputs": [],
   "source": []
  }
 ],
 "metadata": {
  "kernelspec": {
   "display_name": "R",
   "language": "R",
   "name": "ir"
  },
  "language_info": {
   "codemirror_mode": "r",
   "file_extension": ".r",
   "mimetype": "text/x-r-source",
   "name": "R",
   "pygments_lexer": "r",
   "version": "4.0.0"
  }
 },
 "nbformat": 4,
 "nbformat_minor": 4
}
